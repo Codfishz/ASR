{
  "nbformat": 4,
  "nbformat_minor": 0,
  "metadata": {
    "colab": {
      "provenance": [],
      "machine_shape": "hm",
      "gpuType": "T4"
    },
    "kernelspec": {
      "name": "python3",
      "display_name": "Python 3"
    },
    "language_info": {
      "name": "python"
    },
    "accelerator": "GPU"
  },
  "cells": [
    {
      "cell_type": "code",
      "execution_count": null,
      "metadata": {
        "id": "b_ZfVhgCZbg6",
        "colab": {
          "base_uri": "https://localhost:8080/"
        },
        "outputId": "d0f5e3ea-ca85-47a7-ce59-c2e31b90a905"
      },
      "outputs": [
        {
          "output_type": "stream",
          "name": "stdout",
          "text": [
            "Ultralytics 8.3.101 🚀 Python-3.11.11 torch-2.6.0+cu124 CUDA:0 (NVIDIA L4, 22693MiB)\n",
            "Setup complete ✅ (12 CPUs, 53.0 GB RAM, 41.2/235.7 GB disk)\n"
          ]
        }
      ],
      "source": [
        "!pip install ultralytics\n",
        "!pip install torchinfo\n",
        "\n",
        "import ultralytics\n",
        "ultralytics.checks()"
      ]
    },
    {
      "cell_type": "code",
      "source": [
        "import torch\n",
        "print(\"GPU available:\", torch.cuda.is_available())"
      ],
      "metadata": {
        "colab": {
          "base_uri": "https://localhost:8080/"
        },
        "id": "-Qg5l7w5vAI4",
        "outputId": "a07fa10d-b065-4406-db80-0f31d2c24e52"
      },
      "execution_count": null,
      "outputs": [
        {
          "output_type": "stream",
          "name": "stdout",
          "text": [
            "GPU available: True\n"
          ]
        }
      ]
    },
    {
      "cell_type": "code",
      "source": [
        "from ultralytics import YOLO\n",
        "from torchinfo import summary\n",
        "\n",
        "model = YOLO(\"yolov8n.pt\")\n",
        "summary(model.model.cuda(), input_size=(1, 3, 640, 640))"
      ],
      "metadata": {
        "colab": {
          "base_uri": "https://localhost:8080/"
        },
        "id": "xC4t7b9m508h",
        "outputId": "12a5fb8a-9f6d-4188-966f-ac4dcb43bfe7"
      },
      "execution_count": null,
      "outputs": [
        {
          "output_type": "stream",
          "name": "stdout",
          "text": [
            "Downloading https://github.com/ultralytics/assets/releases/download/v8.3.0/yolov8n.pt to 'yolov8n.pt'...\n"
          ]
        },
        {
          "output_type": "stream",
          "name": "stderr",
          "text": [
            "100%|██████████| 6.25M/6.25M [00:00<00:00, 381MB/s]\n"
          ]
        },
        {
          "output_type": "execute_result",
          "data": {
            "text/plain": [
              "====================================================================================================\n",
              "Layer (type:depth-idx)                             Output Shape              Param #\n",
              "====================================================================================================\n",
              "DetectionModel                                     [1, 84, 8400]             --\n",
              "├─Sequential: 1-1                                  --                        --\n",
              "│    └─Conv: 2-1                                   [1, 16, 320, 320]         --\n",
              "│    │    └─Conv2d: 3-1                            [1, 16, 320, 320]         (432)\n",
              "│    │    └─BatchNorm2d: 3-2                       [1, 16, 320, 320]         (32)\n",
              "│    └─Detect: 2-96                                --                        (recursive)\n",
              "│    │    └─ModuleList: 3-118                      --                        (recursive)\n",
              "│    └─Conv: 2-3                                   [1, 32, 160, 160]         --\n",
              "│    │    └─Conv2d: 3-4                            [1, 32, 160, 160]         (4,608)\n",
              "│    │    └─BatchNorm2d: 3-5                       [1, 32, 160, 160]         (64)\n",
              "│    └─Detect: 2-96                                --                        (recursive)\n",
              "│    │    └─ModuleList: 3-118                      --                        (recursive)\n",
              "│    └─C2f: 2-5                                    [1, 32, 160, 160]         6,272\n",
              "│    │    └─Conv: 3-7                              [1, 32, 160, 160]         (1,088)\n",
              "│    └─Detect: 2-96                                --                        (recursive)\n",
              "│    │    └─ModuleList: 3-118                      --                        (recursive)\n",
              "│    └─C2f: 2-11                                   --                        (recursive)\n",
              "│    │    └─ModuleList: 3-11                       --                        (recursive)\n",
              "│    └─Detect: 2-96                                --                        (recursive)\n",
              "│    │    └─ModuleList: 3-118                      --                        (recursive)\n",
              "│    └─C2f: 2-11                                   --                        (recursive)\n",
              "│    │    └─ModuleList: 3-11                       --                        (recursive)\n",
              "│    └─Detect: 2-96                                --                        (recursive)\n",
              "│    │    └─ModuleList: 3-118                      --                        (recursive)\n",
              "│    └─C2f: 2-11                                   --                        (recursive)\n",
              "│    │    └─Conv: 3-13                             [1, 32, 160, 160]         (1,600)\n",
              "│    └─Detect: 2-96                                --                        (recursive)\n",
              "│    │    └─ModuleList: 3-118                      --                        (recursive)\n",
              "│    └─Conv: 2-13                                  [1, 64, 80, 80]           --\n",
              "│    │    └─Conv2d: 3-15                           [1, 64, 80, 80]           (18,432)\n",
              "│    │    └─BatchNorm2d: 3-16                      [1, 64, 80, 80]           (128)\n",
              "│    └─Detect: 2-96                                --                        (recursive)\n",
              "│    │    └─ModuleList: 3-118                      --                        (recursive)\n",
              "│    └─C2f: 2-15                                   [1, 64, 80, 80]           45,440\n",
              "│    │    └─Conv: 3-18                             [1, 64, 80, 80]           (4,224)\n",
              "│    └─Detect: 2-96                                --                        (recursive)\n",
              "│    │    └─ModuleList: 3-118                      --                        (recursive)\n",
              "│    └─C2f: 2-25                                   --                        (recursive)\n",
              "│    │    └─ModuleList: 3-26                       --                        (recursive)\n",
              "│    └─Detect: 2-96                                --                        (recursive)\n",
              "│    │    └─ModuleList: 3-118                      --                        (recursive)\n",
              "│    └─C2f: 2-25                                   --                        (recursive)\n",
              "│    │    └─ModuleList: 3-26                       --                        (recursive)\n",
              "│    └─Detect: 2-96                                --                        (recursive)\n",
              "│    │    └─ModuleList: 3-118                      --                        (recursive)\n",
              "│    └─C2f: 2-25                                   --                        (recursive)\n",
              "│    │    └─ModuleList: 3-26                       --                        (recursive)\n",
              "│    └─Detect: 2-96                                --                        (recursive)\n",
              "│    │    └─ModuleList: 3-118                      --                        (recursive)\n",
              "│    └─C2f: 2-25                                   --                        (recursive)\n",
              "│    │    └─ModuleList: 3-26                       --                        (recursive)\n",
              "│    └─Detect: 2-96                                --                        (recursive)\n",
              "│    │    └─ModuleList: 3-118                      --                        (recursive)\n",
              "│    └─C2f: 2-25                                   --                        (recursive)\n",
              "│    │    └─Conv: 3-28                             [1, 64, 80, 80]           (8,320)\n",
              "│    └─Detect: 2-96                                --                        (recursive)\n",
              "│    │    └─ModuleList: 3-118                      --                        (recursive)\n",
              "│    └─Conv: 2-27                                  [1, 128, 40, 40]          --\n",
              "│    │    └─Conv2d: 3-30                           [1, 128, 40, 40]          (73,728)\n",
              "│    │    └─BatchNorm2d: 3-31                      [1, 128, 40, 40]          (256)\n",
              "│    └─Detect: 2-96                                --                        (recursive)\n",
              "│    │    └─ModuleList: 3-118                      --                        (recursive)\n",
              "│    └─C2f: 2-29                                   [1, 128, 40, 40]          180,992\n",
              "│    │    └─Conv: 3-33                             [1, 128, 40, 40]          (16,640)\n",
              "│    └─Detect: 2-96                                --                        (recursive)\n",
              "│    │    └─ModuleList: 3-118                      --                        (recursive)\n",
              "│    └─C2f: 2-39                                   --                        (recursive)\n",
              "│    │    └─ModuleList: 3-41                       --                        (recursive)\n",
              "│    └─Detect: 2-96                                --                        (recursive)\n",
              "│    │    └─ModuleList: 3-118                      --                        (recursive)\n",
              "│    └─C2f: 2-39                                   --                        (recursive)\n",
              "│    │    └─ModuleList: 3-41                       --                        (recursive)\n",
              "│    └─Detect: 2-96                                --                        (recursive)\n",
              "│    │    └─ModuleList: 3-118                      --                        (recursive)\n",
              "│    └─C2f: 2-39                                   --                        (recursive)\n",
              "│    │    └─ModuleList: 3-41                       --                        (recursive)\n",
              "│    └─Detect: 2-96                                --                        (recursive)\n",
              "│    │    └─ModuleList: 3-118                      --                        (recursive)\n",
              "│    └─C2f: 2-39                                   --                        (recursive)\n",
              "│    │    └─ModuleList: 3-41                       --                        (recursive)\n",
              "│    └─Detect: 2-96                                --                        (recursive)\n",
              "│    │    └─ModuleList: 3-118                      --                        (recursive)\n",
              "│    └─C2f: 2-39                                   --                        (recursive)\n",
              "│    │    └─Conv: 3-43                             [1, 128, 40, 40]          (33,024)\n",
              "│    └─Detect: 2-96                                --                        (recursive)\n",
              "│    │    └─ModuleList: 3-118                      --                        (recursive)\n",
              "│    └─Conv: 2-41                                  [1, 256, 20, 20]          --\n",
              "│    │    └─Conv2d: 3-45                           [1, 256, 20, 20]          (294,912)\n",
              "│    │    └─BatchNorm2d: 3-46                      [1, 256, 20, 20]          (512)\n",
              "│    └─Detect: 2-96                                --                        (recursive)\n",
              "│    │    └─ModuleList: 3-118                      --                        (recursive)\n",
              "│    └─C2f: 2-43                                   [1, 256, 20, 20]          394,240\n",
              "│    │    └─Conv: 3-48                             [1, 256, 20, 20]          (66,048)\n",
              "│    └─Detect: 2-96                                --                        (recursive)\n",
              "│    │    └─ModuleList: 3-118                      --                        (recursive)\n",
              "│    └─C2f: 2-49                                   --                        (recursive)\n",
              "│    │    └─ModuleList: 3-52                       --                        (recursive)\n",
              "│    └─Detect: 2-96                                --                        (recursive)\n",
              "│    │    └─ModuleList: 3-118                      --                        (recursive)\n",
              "│    └─C2f: 2-49                                   --                        (recursive)\n",
              "│    │    └─ModuleList: 3-52                       --                        (recursive)\n",
              "│    └─Detect: 2-96                                --                        (recursive)\n",
              "│    │    └─ModuleList: 3-118                      --                        (recursive)\n",
              "│    └─C2f: 2-49                                   --                        (recursive)\n",
              "│    │    └─Conv: 3-54                             [1, 256, 20, 20]          (98,816)\n",
              "│    └─Detect: 2-96                                --                        (recursive)\n",
              "│    │    └─ModuleList: 3-118                      --                        (recursive)\n",
              "│    └─SPPF: 2-51                                  [1, 256, 20, 20]          131,584\n",
              "│    │    └─Conv: 3-56                             [1, 128, 20, 20]          (33,024)\n",
              "│    └─Detect: 2-96                                --                        (recursive)\n",
              "│    │    └─ModuleList: 3-118                      --                        (recursive)\n",
              "│    └─SPPF: 2-53                                  --                        (recursive)\n",
              "│    │    └─MaxPool2d: 3-58                        [1, 128, 20, 20]          --\n",
              "│    │    └─MaxPool2d: 3-59                        [1, 128, 20, 20]          --\n",
              "│    │    └─MaxPool2d: 3-60                        [1, 128, 20, 20]          --\n",
              "│    │    └─Conv: 3-61                             [1, 256, 20, 20]          (131,584)\n",
              "│    └─Detect: 2-96                                --                        (recursive)\n",
              "│    │    └─ModuleList: 3-118                      --                        (recursive)\n",
              "│    └─Upsample: 2-55                              [1, 256, 40, 40]          --\n",
              "│    └─Concat: 2-56                                [1, 384, 40, 40]          --\n",
              "│    └─C2f: 2-57                                   [1, 128, 40, 40]          98,816\n",
              "│    │    └─Conv: 3-63                             [1, 128, 40, 40]          (49,408)\n",
              "│    └─Detect: 2-96                                --                        (recursive)\n",
              "│    │    └─ModuleList: 3-118                      --                        (recursive)\n",
              "│    └─C2f: 2-63                                   --                        (recursive)\n",
              "│    │    └─ModuleList: 3-67                       --                        (recursive)\n",
              "│    └─Detect: 2-96                                --                        (recursive)\n",
              "│    │    └─ModuleList: 3-118                      --                        (recursive)\n",
              "│    └─C2f: 2-63                                   --                        (recursive)\n",
              "│    │    └─ModuleList: 3-67                       --                        (recursive)\n",
              "│    └─Detect: 2-96                                --                        (recursive)\n",
              "│    │    └─ModuleList: 3-118                      --                        (recursive)\n",
              "│    └─C2f: 2-63                                   --                        (recursive)\n",
              "│    │    └─Conv: 3-69                             [1, 128, 40, 40]          (24,832)\n",
              "│    └─Detect: 2-96                                --                        (recursive)\n",
              "│    │    └─ModuleList: 3-118                      --                        (recursive)\n",
              "│    └─Upsample: 2-65                              [1, 128, 80, 80]          --\n",
              "│    └─Concat: 2-66                                [1, 192, 80, 80]          --\n",
              "│    └─C2f: 2-67                                   [1, 64, 80, 80]           24,832\n",
              "│    │    └─Conv: 3-71                             [1, 64, 80, 80]           (12,416)\n",
              "│    └─Detect: 2-96                                --                        (recursive)\n",
              "│    │    └─ModuleList: 3-118                      --                        (recursive)\n",
              "│    └─C2f: 2-73                                   --                        (recursive)\n",
              "│    │    └─ModuleList: 3-75                       --                        (recursive)\n",
              "│    └─Detect: 2-96                                --                        (recursive)\n",
              "│    │    └─ModuleList: 3-118                      --                        (recursive)\n",
              "│    └─C2f: 2-73                                   --                        (recursive)\n",
              "│    │    └─ModuleList: 3-75                       --                        (recursive)\n",
              "│    └─Detect: 2-96                                --                        (recursive)\n",
              "│    │    └─ModuleList: 3-118                      --                        (recursive)\n",
              "│    └─C2f: 2-73                                   --                        (recursive)\n",
              "│    │    └─Conv: 3-77                             [1, 64, 80, 80]           (6,272)\n",
              "│    └─Detect: 2-96                                --                        (recursive)\n",
              "│    │    └─ModuleList: 3-118                      --                        (recursive)\n",
              "│    └─Conv: 2-75                                  [1, 64, 40, 40]           --\n",
              "│    │    └─Conv2d: 3-79                           [1, 64, 40, 40]           (36,864)\n",
              "│    │    └─BatchNorm2d: 3-80                      [1, 64, 40, 40]           (128)\n",
              "│    └─Detect: 2-96                                --                        (recursive)\n",
              "│    │    └─ModuleList: 3-118                      --                        (recursive)\n",
              "│    └─Concat: 2-77                                [1, 192, 40, 40]          --\n",
              "│    └─C2f: 2-78                                   [1, 128, 40, 40]          98,816\n",
              "│    │    └─Conv: 3-82                             [1, 128, 40, 40]          (24,832)\n",
              "│    └─Detect: 2-96                                --                        (recursive)\n",
              "│    │    └─ModuleList: 3-118                      --                        (recursive)\n",
              "│    └─C2f: 2-84                                   --                        (recursive)\n",
              "│    │    └─ModuleList: 3-86                       --                        (recursive)\n",
              "│    └─Detect: 2-96                                --                        (recursive)\n",
              "│    │    └─ModuleList: 3-118                      --                        (recursive)\n",
              "│    └─C2f: 2-84                                   --                        (recursive)\n",
              "│    │    └─ModuleList: 3-86                       --                        (recursive)\n",
              "│    └─Detect: 2-96                                --                        (recursive)\n",
              "│    │    └─ModuleList: 3-118                      --                        (recursive)\n",
              "│    └─C2f: 2-84                                   --                        (recursive)\n",
              "│    │    └─Conv: 3-88                             [1, 128, 40, 40]          (24,832)\n",
              "│    └─Detect: 2-96                                --                        (recursive)\n",
              "│    │    └─ModuleList: 3-118                      --                        (recursive)\n",
              "│    └─Conv: 2-86                                  [1, 128, 20, 20]          --\n",
              "│    │    └─Conv2d: 3-90                           [1, 128, 20, 20]          (147,456)\n",
              "│    │    └─BatchNorm2d: 3-91                      [1, 128, 20, 20]          (256)\n",
              "│    └─Detect: 2-96                                --                        (recursive)\n",
              "│    │    └─ModuleList: 3-118                      --                        (recursive)\n",
              "│    └─Concat: 2-88                                [1, 384, 20, 20]          --\n",
              "│    └─C2f: 2-89                                   [1, 256, 20, 20]          394,240\n",
              "│    │    └─Conv: 3-93                             [1, 256, 20, 20]          (98,816)\n",
              "│    └─Detect: 2-96                                --                        (recursive)\n",
              "│    │    └─ModuleList: 3-118                      --                        (recursive)\n",
              "│    └─C2f: 2-95                                   --                        (recursive)\n",
              "│    │    └─ModuleList: 3-97                       --                        (recursive)\n",
              "│    └─Detect: 2-96                                --                        (recursive)\n",
              "│    │    └─ModuleList: 3-118                      --                        (recursive)\n",
              "│    └─C2f: 2-95                                   --                        (recursive)\n",
              "│    │    └─ModuleList: 3-97                       --                        (recursive)\n",
              "│    └─Detect: 2-96                                --                        (recursive)\n",
              "│    │    └─ModuleList: 3-118                      --                        (recursive)\n",
              "│    └─C2f: 2-95                                   --                        (recursive)\n",
              "│    │    └─Conv: 3-99                             [1, 256, 20, 20]          (98,816)\n",
              "│    └─Detect: 2-96                                --                        (recursive)\n",
              "│    │    └─ModuleList: 3-118                      --                        (recursive)\n",
              "│    └─Detect: 2-97                                [1, 84, 8400]             --\n",
              "│    │    └─ModuleList: 3-117                      --                        (recursive)\n",
              "│    │    └─ModuleList: 3-118                      --                        (recursive)\n",
              "│    │    └─ModuleList: 3-117                      --                        (recursive)\n",
              "│    │    └─ModuleList: 3-118                      --                        (recursive)\n",
              "│    │    └─ModuleList: 3-117                      --                        (recursive)\n",
              "│    │    └─ModuleList: 3-118                      --                        (recursive)\n",
              "│    │    └─ModuleList: 3-117                      --                        (recursive)\n",
              "│    │    └─ModuleList: 3-118                      --                        (recursive)\n",
              "│    │    └─ModuleList: 3-117                      --                        (recursive)\n",
              "│    │    └─ModuleList: 3-118                      --                        (recursive)\n",
              "│    │    └─ModuleList: 3-117                      --                        (recursive)\n",
              "│    │    └─ModuleList: 3-118                      --                        (recursive)\n",
              "│    │    └─ModuleList: 3-117                      --                        (recursive)\n",
              "│    │    └─ModuleList: 3-118                      --                        (recursive)\n",
              "│    │    └─ModuleList: 3-117                      --                        (recursive)\n",
              "│    │    └─ModuleList: 3-118                      --                        (recursive)\n",
              "│    │    └─ModuleList: 3-117                      --                        (recursive)\n",
              "│    │    └─ModuleList: 3-118                      --                        (recursive)\n",
              "│    │    └─DFL: 3-119                             [1, 4, 8400]              (16)\n",
              "====================================================================================================\n",
              "Total params: 5,257,936\n",
              "Trainable params: 0\n",
              "Non-trainable params: 5,257,936\n",
              "Total mult-adds (Units.GIGABYTES): 4.37\n",
              "====================================================================================================\n",
              "Input size (MB): 4.92\n",
              "Forward/backward pass size (MB): 232.15\n",
              "Params size (MB): 12.63\n",
              "Estimated Total Size (MB): 249.70\n",
              "===================================================================================================="
            ]
          },
          "metadata": {},
          "execution_count": 3
        }
      ]
    },
    {
      "cell_type": "code",
      "source": [
        "results_train = model.train(data='coco128.yaml', epochs=10, imgsz=640)"
      ],
      "metadata": {
        "colab": {
          "base_uri": "https://localhost:8080/"
        },
        "id": "MIJqvmxU6A9a",
        "outputId": "7f451304-e0be-4a42-93e0-e539732668dc"
      },
      "execution_count": null,
      "outputs": [
        {
          "output_type": "stream",
          "name": "stdout",
          "text": [
            "Ultralytics 8.3.101 🚀 Python-3.11.11 torch-2.6.0+cu124 CUDA:0 (NVIDIA L4, 22693MiB)\n",
            "\u001b[34m\u001b[1mengine/trainer: \u001b[0mtask=detect, mode=train, model=yolov8n.pt, data=coco128.yaml, epochs=10, time=None, patience=100, batch=16, imgsz=640, save=True, save_period=-1, cache=False, device=None, workers=8, project=None, name=train, exist_ok=False, pretrained=True, optimizer=auto, verbose=True, seed=0, deterministic=True, single_cls=False, rect=False, cos_lr=False, close_mosaic=10, resume=False, amp=True, fraction=1.0, profile=False, freeze=None, multi_scale=False, overlap_mask=True, mask_ratio=4, dropout=0.0, val=True, split=val, save_json=False, save_hybrid=False, conf=None, iou=0.7, max_det=300, half=False, dnn=False, plots=True, source=None, vid_stride=1, stream_buffer=False, visualize=False, augment=False, agnostic_nms=False, classes=None, retina_masks=False, embed=None, show=False, save_frames=False, save_txt=False, save_conf=False, save_crop=False, show_labels=True, show_conf=True, show_boxes=True, line_width=None, format=torchscript, keras=False, optimize=False, int8=False, dynamic=False, simplify=True, opset=None, workspace=None, nms=False, lr0=0.01, lrf=0.01, momentum=0.937, weight_decay=0.0005, warmup_epochs=3.0, warmup_momentum=0.8, warmup_bias_lr=0.1, box=7.5, cls=0.5, dfl=1.5, pose=12.0, kobj=1.0, nbs=64, hsv_h=0.015, hsv_s=0.7, hsv_v=0.4, degrees=0.0, translate=0.1, scale=0.5, shear=0.0, perspective=0.0, flipud=0.0, fliplr=0.5, bgr=0.0, mosaic=1.0, mixup=0.0, copy_paste=0.0, copy_paste_mode=flip, auto_augment=randaugment, erasing=0.4, crop_fraction=1.0, cfg=None, tracker=botsort.yaml, save_dir=runs/detect/train\n",
            "\n",
            "Dataset 'coco128.yaml' images not found ⚠️, missing path '/content/datasets/coco128/images/train2017'\n",
            "Downloading https://ultralytics.com/assets/coco128.zip to '/content/datasets/coco128.zip'...\n"
          ]
        },
        {
          "output_type": "stream",
          "name": "stderr",
          "text": [
            "100%|██████████| 6.66M/6.66M [00:00<00:00, 406MB/s]\n",
            "Unzipping /content/datasets/coco128.zip to /content/datasets/coco128...: 100%|██████████| 263/263 [00:00<00:00, 4051.95file/s]"
          ]
        },
        {
          "output_type": "stream",
          "name": "stdout",
          "text": [
            "Dataset download success ✅ (1.7s), saved to \u001b[1m/content/datasets\u001b[0m\n",
            "\n"
          ]
        },
        {
          "output_type": "stream",
          "name": "stderr",
          "text": [
            "\n"
          ]
        },
        {
          "output_type": "stream",
          "name": "stdout",
          "text": [
            "Downloading https://ultralytics.com/assets/Arial.ttf to '/root/.config/Ultralytics/Arial.ttf'...\n"
          ]
        },
        {
          "output_type": "stream",
          "name": "stderr",
          "text": [
            "100%|██████████| 755k/755k [00:00<00:00, 103MB/s]\n"
          ]
        },
        {
          "output_type": "stream",
          "name": "stdout",
          "text": [
            "\n",
            "                   from  n    params  module                                       arguments                     \n",
            "  0                  -1  1       464  ultralytics.nn.modules.conv.Conv             [3, 16, 3, 2]                 \n",
            "  1                  -1  1      4672  ultralytics.nn.modules.conv.Conv             [16, 32, 3, 2]                \n",
            "  2                  -1  1      7360  ultralytics.nn.modules.block.C2f             [32, 32, 1, True]             \n",
            "  3                  -1  1     18560  ultralytics.nn.modules.conv.Conv             [32, 64, 3, 2]                \n",
            "  4                  -1  2     49664  ultralytics.nn.modules.block.C2f             [64, 64, 2, True]             \n",
            "  5                  -1  1     73984  ultralytics.nn.modules.conv.Conv             [64, 128, 3, 2]               \n",
            "  6                  -1  2    197632  ultralytics.nn.modules.block.C2f             [128, 128, 2, True]           \n",
            "  7                  -1  1    295424  ultralytics.nn.modules.conv.Conv             [128, 256, 3, 2]              \n",
            "  8                  -1  1    460288  ultralytics.nn.modules.block.C2f             [256, 256, 1, True]           \n",
            "  9                  -1  1    164608  ultralytics.nn.modules.block.SPPF            [256, 256, 5]                 \n",
            " 10                  -1  1         0  torch.nn.modules.upsampling.Upsample         [None, 2, 'nearest']          \n",
            " 11             [-1, 6]  1         0  ultralytics.nn.modules.conv.Concat           [1]                           \n",
            " 12                  -1  1    148224  ultralytics.nn.modules.block.C2f             [384, 128, 1]                 \n",
            " 13                  -1  1         0  torch.nn.modules.upsampling.Upsample         [None, 2, 'nearest']          \n",
            " 14             [-1, 4]  1         0  ultralytics.nn.modules.conv.Concat           [1]                           \n",
            " 15                  -1  1     37248  ultralytics.nn.modules.block.C2f             [192, 64, 1]                  \n",
            " 16                  -1  1     36992  ultralytics.nn.modules.conv.Conv             [64, 64, 3, 2]                \n",
            " 17            [-1, 12]  1         0  ultralytics.nn.modules.conv.Concat           [1]                           \n",
            " 18                  -1  1    123648  ultralytics.nn.modules.block.C2f             [192, 128, 1]                 \n",
            " 19                  -1  1    147712  ultralytics.nn.modules.conv.Conv             [128, 128, 3, 2]              \n",
            " 20             [-1, 9]  1         0  ultralytics.nn.modules.conv.Concat           [1]                           \n",
            " 21                  -1  1    493056  ultralytics.nn.modules.block.C2f             [384, 256, 1]                 \n",
            " 22        [15, 18, 21]  1    897664  ultralytics.nn.modules.head.Detect           [80, [64, 128, 256]]          \n",
            "Model summary: 129 layers, 3,157,200 parameters, 3,157,184 gradients, 8.9 GFLOPs\n",
            "\n",
            "Transferred 355/355 items from pretrained weights\n",
            "\u001b[34m\u001b[1mTensorBoard: \u001b[0mStart with 'tensorboard --logdir runs/detect/train', view at http://localhost:6006/\n",
            "Freezing layer 'model.22.dfl.conv.weight'\n",
            "\u001b[34m\u001b[1mAMP: \u001b[0mrunning Automatic Mixed Precision (AMP) checks...\n",
            "Downloading https://github.com/ultralytics/assets/releases/download/v8.3.0/yolo11n.pt to 'yolo11n.pt'...\n"
          ]
        },
        {
          "output_type": "stream",
          "name": "stderr",
          "text": [
            "100%|██████████| 5.35M/5.35M [00:00<00:00, 321MB/s]\n"
          ]
        },
        {
          "output_type": "stream",
          "name": "stdout",
          "text": [
            "\u001b[34m\u001b[1mAMP: \u001b[0mchecks passed ✅\n"
          ]
        },
        {
          "output_type": "stream",
          "name": "stderr",
          "text": [
            "\u001b[34m\u001b[1mtrain: \u001b[0mScanning /content/datasets/coco128/labels/train2017... 126 images, 2 backgrounds, 0 corrupt: 100%|██████████| 128/128 [00:00<00:00, 1509.18it/s]"
          ]
        },
        {
          "output_type": "stream",
          "name": "stdout",
          "text": [
            "\u001b[34m\u001b[1mtrain: \u001b[0mNew cache created: /content/datasets/coco128/labels/train2017.cache\n"
          ]
        },
        {
          "output_type": "stream",
          "name": "stderr",
          "text": [
            "\n"
          ]
        },
        {
          "output_type": "stream",
          "name": "stdout",
          "text": [
            "\u001b[34m\u001b[1malbumentations: \u001b[0mBlur(p=0.01, blur_limit=(3, 7)), MedianBlur(p=0.01, blur_limit=(3, 7)), ToGray(p=0.01, num_output_channels=3, method='weighted_average'), CLAHE(p=0.01, clip_limit=(1.0, 4.0), tile_grid_size=(8, 8))\n"
          ]
        },
        {
          "output_type": "stream",
          "name": "stderr",
          "text": [
            "\u001b[34m\u001b[1mval: \u001b[0mScanning /content/datasets/coco128/labels/train2017.cache... 126 images, 2 backgrounds, 0 corrupt: 100%|██████████| 128/128 [00:00<?, ?it/s]\n"
          ]
        },
        {
          "output_type": "stream",
          "name": "stdout",
          "text": [
            "Plotting labels to runs/detect/train/labels.jpg... \n",
            "\u001b[34m\u001b[1moptimizer:\u001b[0m 'optimizer=auto' found, ignoring 'lr0=0.01' and 'momentum=0.937' and determining best 'optimizer', 'lr0' and 'momentum' automatically... \n",
            "\u001b[34m\u001b[1moptimizer:\u001b[0m AdamW(lr=0.000119, momentum=0.9) with parameter groups 57 weight(decay=0.0), 64 weight(decay=0.0005), 63 bias(decay=0.0)\n",
            "\u001b[34m\u001b[1mTensorBoard: \u001b[0mmodel graph visualization added ✅\n",
            "Image sizes 640 train, 640 val\n",
            "Using 8 dataloader workers\n",
            "Logging results to \u001b[1mruns/detect/train\u001b[0m\n",
            "Starting training for 10 epochs...\n",
            "Closing dataloader mosaic\n",
            "\u001b[34m\u001b[1malbumentations: \u001b[0mBlur(p=0.01, blur_limit=(3, 7)), MedianBlur(p=0.01, blur_limit=(3, 7)), ToGray(p=0.01, num_output_channels=3, method='weighted_average'), CLAHE(p=0.01, clip_limit=(1.0, 4.0), tile_grid_size=(8, 8))\n",
            "\n",
            "      Epoch    GPU_mem   box_loss   cls_loss   dfl_loss  Instances       Size\n"
          ]
        },
        {
          "output_type": "stream",
          "name": "stderr",
          "text": [
            "       1/10      2.34G      1.182      1.383      1.214        121        640: 100%|██████████| 8/8 [00:02<00:00,  3.08it/s]\n",
            "                 Class     Images  Instances      Box(P          R      mAP50  mAP50-95): 100%|██████████| 4/4 [00:01<00:00,  2.33it/s]"
          ]
        },
        {
          "output_type": "stream",
          "name": "stdout",
          "text": [
            "                   all        128        929      0.644      0.533      0.611       0.45\n"
          ]
        },
        {
          "output_type": "stream",
          "name": "stderr",
          "text": [
            "\n"
          ]
        },
        {
          "output_type": "stream",
          "name": "stdout",
          "text": [
            "\n",
            "      Epoch    GPU_mem   box_loss   cls_loss   dfl_loss  Instances       Size\n"
          ]
        },
        {
          "output_type": "stream",
          "name": "stderr",
          "text": [
            "       2/10      3.34G      1.144      1.377        1.2        113        640: 100%|██████████| 8/8 [00:00<00:00,  8.73it/s]\n",
            "                 Class     Images  Instances      Box(P          R      mAP50  mAP50-95): 100%|██████████| 4/4 [00:00<00:00,  6.10it/s]\n"
          ]
        },
        {
          "output_type": "stream",
          "name": "stdout",
          "text": [
            "                   all        128        929      0.669      0.555      0.624      0.462\n",
            "\n",
            "      Epoch    GPU_mem   box_loss   cls_loss   dfl_loss  Instances       Size\n"
          ]
        },
        {
          "output_type": "stream",
          "name": "stderr",
          "text": [
            "       3/10      3.37G      1.192       1.34      1.237        118        640: 100%|██████████| 8/8 [00:00<00:00,  9.57it/s]\n",
            "                 Class     Images  Instances      Box(P          R      mAP50  mAP50-95): 100%|██████████| 4/4 [00:00<00:00,  6.25it/s]\n"
          ]
        },
        {
          "output_type": "stream",
          "name": "stdout",
          "text": [
            "                   all        128        929      0.676      0.558      0.637      0.476\n",
            "\n",
            "      Epoch    GPU_mem   box_loss   cls_loss   dfl_loss  Instances       Size\n"
          ]
        },
        {
          "output_type": "stream",
          "name": "stderr",
          "text": [
            "       4/10      3.37G      1.148      1.284      1.196         68        640: 100%|██████████| 8/8 [00:00<00:00,  9.71it/s]\n",
            "                 Class     Images  Instances      Box(P          R      mAP50  mAP50-95): 100%|██████████| 4/4 [00:00<00:00,  6.06it/s]\n"
          ]
        },
        {
          "output_type": "stream",
          "name": "stdout",
          "text": [
            "                   all        128        929      0.708      0.562       0.65      0.489\n",
            "\n",
            "      Epoch    GPU_mem   box_loss   cls_loss   dfl_loss  Instances       Size\n"
          ]
        },
        {
          "output_type": "stream",
          "name": "stderr",
          "text": [
            "       5/10      3.39G      1.148      1.229      1.192         95        640: 100%|██████████| 8/8 [00:00<00:00,  9.42it/s]\n",
            "                 Class     Images  Instances      Box(P          R      mAP50  mAP50-95): 100%|██████████| 4/4 [00:00<00:00,  5.92it/s]\n"
          ]
        },
        {
          "output_type": "stream",
          "name": "stdout",
          "text": [
            "                   all        128        929      0.701      0.572      0.669      0.499\n",
            "\n",
            "      Epoch    GPU_mem   box_loss   cls_loss   dfl_loss  Instances       Size\n"
          ]
        },
        {
          "output_type": "stream",
          "name": "stderr",
          "text": [
            "       6/10      3.39G      1.101       1.22      1.164        122        640: 100%|██████████| 8/8 [00:00<00:00,  9.45it/s]\n",
            "                 Class     Images  Instances      Box(P          R      mAP50  mAP50-95): 100%|██████████| 4/4 [00:00<00:00,  5.96it/s]\n"
          ]
        },
        {
          "output_type": "stream",
          "name": "stdout",
          "text": [
            "                   all        128        929      0.665      0.601      0.677       0.51\n",
            "\n",
            "      Epoch    GPU_mem   box_loss   cls_loss   dfl_loss  Instances       Size\n"
          ]
        },
        {
          "output_type": "stream",
          "name": "stderr",
          "text": [
            "       7/10      3.41G      1.074      1.136      1.143         75        640: 100%|██████████| 8/8 [00:00<00:00,  9.80it/s]\n",
            "                 Class     Images  Instances      Box(P          R      mAP50  mAP50-95): 100%|██████████| 4/4 [00:00<00:00,  6.02it/s]\n"
          ]
        },
        {
          "output_type": "stream",
          "name": "stdout",
          "text": [
            "                   all        128        929      0.677      0.625      0.692      0.519\n",
            "\n",
            "      Epoch    GPU_mem   box_loss   cls_loss   dfl_loss  Instances       Size\n"
          ]
        },
        {
          "output_type": "stream",
          "name": "stderr",
          "text": [
            "       8/10      3.41G      1.111      1.134      1.179        142        640: 100%|██████████| 8/8 [00:00<00:00,  9.50it/s]\n",
            "                 Class     Images  Instances      Box(P          R      mAP50  mAP50-95): 100%|██████████| 4/4 [00:00<00:00,  5.98it/s]\n"
          ]
        },
        {
          "output_type": "stream",
          "name": "stdout",
          "text": [
            "                   all        128        929      0.676      0.643        0.7      0.528\n",
            "\n",
            "      Epoch    GPU_mem   box_loss   cls_loss   dfl_loss  Instances       Size\n"
          ]
        },
        {
          "output_type": "stream",
          "name": "stderr",
          "text": [
            "       9/10      3.41G      1.086      1.099      1.147        104        640: 100%|██████████| 8/8 [00:00<00:00,  9.63it/s]\n",
            "                 Class     Images  Instances      Box(P          R      mAP50  mAP50-95): 100%|██████████| 4/4 [00:00<00:00,  6.21it/s]\n"
          ]
        },
        {
          "output_type": "stream",
          "name": "stdout",
          "text": [
            "                   all        128        929      0.671      0.658      0.704       0.53\n",
            "\n",
            "      Epoch    GPU_mem   box_loss   cls_loss   dfl_loss  Instances       Size\n"
          ]
        },
        {
          "output_type": "stream",
          "name": "stderr",
          "text": [
            "      10/10      3.41G      1.088      1.168      1.182        164        640: 100%|██████████| 8/8 [00:00<00:00, 10.01it/s]\n",
            "                 Class     Images  Instances      Box(P          R      mAP50  mAP50-95): 100%|██████████| 4/4 [00:00<00:00,  5.98it/s]\n"
          ]
        },
        {
          "output_type": "stream",
          "name": "stdout",
          "text": [
            "                   all        128        929      0.664      0.661      0.706      0.531\n",
            "\n",
            "10 epochs completed in 0.007 hours.\n",
            "Optimizer stripped from runs/detect/train/weights/last.pt, 6.5MB\n",
            "Optimizer stripped from runs/detect/train/weights/best.pt, 6.5MB\n",
            "\n",
            "Validating runs/detect/train/weights/best.pt...\n",
            "Ultralytics 8.3.101 🚀 Python-3.11.11 torch-2.6.0+cu124 CUDA:0 (NVIDIA L4, 22693MiB)\n",
            "Model summary (fused): 72 layers, 3,151,904 parameters, 0 gradients, 8.7 GFLOPs\n"
          ]
        },
        {
          "output_type": "stream",
          "name": "stderr",
          "text": [
            "                 Class     Images  Instances      Box(P          R      mAP50  mAP50-95): 100%|██████████| 4/4 [00:01<00:00,  2.70it/s]\n"
          ]
        },
        {
          "output_type": "stream",
          "name": "stdout",
          "text": [
            "                   all        128        929      0.663      0.662      0.706      0.531\n",
            "                person         61        254       0.78      0.701       0.78      0.571\n",
            "               bicycle          3          6      0.856      0.333      0.367      0.324\n",
            "                   car         12         46      0.691      0.239      0.325      0.201\n",
            "            motorcycle          4          5      0.689      0.894      0.938      0.753\n",
            "              airplane          5          6      0.712          1      0.955      0.783\n",
            "                   bus          5          7      0.754      0.714      0.722       0.65\n",
            "                 train          3          3      0.701          1      0.913      0.747\n",
            "                 truck          5         12      0.857      0.499      0.528      0.374\n",
            "                  boat          2          6      0.502      0.336      0.585      0.401\n",
            "         traffic light          4         14      0.332      0.143      0.149      0.142\n",
            "             stop sign          2          2       0.73          1      0.995      0.661\n",
            "                 bench          5          9      0.734      0.444      0.684      0.532\n",
            "                  bird          2         16      0.878      0.899      0.961       0.66\n",
            "                   cat          4          4      0.696          1      0.995      0.747\n",
            "                   dog          9          9      0.684      0.889      0.931      0.695\n",
            "                 horse          1          2      0.663          1      0.995      0.597\n",
            "              elephant          4         17        0.8      0.939      0.957      0.721\n",
            "                  bear          1          1      0.447          1      0.995      0.995\n",
            "                 zebra          2          4      0.856          1      0.995      0.971\n",
            "               giraffe          4          9      0.929          1      0.995      0.772\n",
            "              backpack          4          6      0.607      0.333      0.387      0.263\n",
            "              umbrella          4         18       0.59      0.719      0.721      0.491\n",
            "               handbag          9         19      0.574      0.214      0.382      0.184\n",
            "                   tie          6          7      0.664      0.714      0.764      0.552\n",
            "              suitcase          2          4      0.629          1      0.995      0.646\n",
            "               frisbee          5          5      0.712        0.8      0.799      0.714\n",
            "                  skis          1          1      0.783          1      0.995      0.451\n",
            "             snowboard          2          7      0.563      0.714      0.773      0.525\n",
            "           sports ball          6          6      0.725      0.449      0.557      0.346\n",
            "                  kite          2         10      0.676        0.4      0.603      0.193\n",
            "          baseball bat          4          4      0.562       0.25      0.425      0.274\n",
            "        baseball glove          4          7      0.843      0.429      0.431      0.304\n",
            "            skateboard          3          5       0.66        0.6      0.606      0.444\n",
            "         tennis racket          5          7      0.557      0.542      0.609      0.399\n",
            "                bottle          6         18      0.514       0.47      0.406      0.284\n",
            "            wine glass          5         16      0.554      0.544      0.668      0.375\n",
            "                   cup         10         36      0.585      0.389      0.486      0.351\n",
            "                  fork          6          6       0.55      0.167      0.295      0.251\n",
            "                 knife          7         16      0.781      0.625       0.63      0.373\n",
            "                 spoon          5         22      0.576      0.364       0.41      0.241\n",
            "                  bowl          9         28      0.643      0.786      0.747       0.62\n",
            "                banana          1          1          0          0      0.199     0.0313\n",
            "              sandwich          2          2      0.748          1      0.995      0.995\n",
            "                orange          1          4      0.725      0.674      0.845      0.554\n",
            "              broccoli          4         11      0.555      0.273      0.323       0.25\n",
            "                carrot          3         24        0.6      0.792      0.788      0.532\n",
            "               hot dog          1          2      0.517          1      0.995      0.995\n",
            "                 pizza          5          5      0.848          1      0.995      0.893\n",
            "                 donut          2         14      0.534          1      0.932      0.854\n",
            "                  cake          4          4      0.815          1      0.995      0.905\n",
            "                 chair          9         35      0.514      0.574      0.524      0.322\n",
            "                 couch          5          6      0.445      0.667      0.811      0.629\n",
            "          potted plant          9         14      0.754      0.786      0.803      0.537\n",
            "                   bed          3          3          1      0.969      0.995       0.83\n",
            "          dining table         10         13      0.506      0.538      0.567      0.463\n",
            "                toilet          2          2       0.95          1      0.995      0.946\n",
            "                    tv          2          2      0.706          1      0.995      0.896\n",
            "                laptop          2          3      0.792      0.667      0.789       0.72\n",
            "                 mouse          2          2          1          0     0.0547    0.00547\n",
            "                remote          5          8      0.886      0.625       0.65      0.578\n",
            "            cell phone          5          8          0          0      0.107     0.0356\n",
            "             microwave          3          3      0.681      0.667      0.913      0.773\n",
            "                  oven          5          5      0.589        0.6       0.52      0.391\n",
            "                  sink          4          6      0.521      0.188       0.34      0.235\n",
            "          refrigerator          5          5      0.671        0.8      0.878      0.758\n",
            "                  book          6         29      0.555      0.414      0.414       0.23\n",
            "                 clock          8          9      0.787      0.823      0.883      0.769\n",
            "                  vase          2          2      0.459          1      0.745      0.671\n",
            "              scissors          1          1      0.927          1      0.995      0.298\n",
            "            teddy bear          6         21      0.675      0.619       0.74      0.493\n",
            "            toothbrush          2          5      0.705        0.8      0.898      0.556\n",
            "Speed: 0.2ms preprocess, 2.4ms inference, 0.0ms loss, 1.2ms postprocess per image\n",
            "Results saved to \u001b[1mruns/detect/train\u001b[0m\n"
          ]
        }
      ]
    },
    {
      "cell_type": "code",
      "source": [
        "results_val = model.val()"
      ],
      "metadata": {
        "colab": {
          "base_uri": "https://localhost:8080/"
        },
        "id": "cAefz-2C6DUa",
        "outputId": "a6663076-8698-4bbf-80ae-530ec5eefe91"
      },
      "execution_count": null,
      "outputs": [
        {
          "output_type": "stream",
          "name": "stdout",
          "text": [
            "Ultralytics 8.3.101 🚀 Python-3.11.11 torch-2.6.0+cu124 CUDA:0 (NVIDIA L4, 22693MiB)\n",
            "Model summary (fused): 72 layers, 3,151,904 parameters, 0 gradients, 8.7 GFLOPs\n"
          ]
        },
        {
          "output_type": "stream",
          "name": "stderr",
          "text": [
            "\u001b[34m\u001b[1mval: \u001b[0mScanning /content/datasets/coco128/labels/train2017.cache... 126 images, 2 backgrounds, 0 corrupt: 100%|██████████| 128/128 [00:00<?, ?it/s]\n",
            "                 Class     Images  Instances      Box(P          R      mAP50  mAP50-95): 100%|██████████| 8/8 [00:02<00:00,  3.62it/s]\n"
          ]
        },
        {
          "output_type": "stream",
          "name": "stdout",
          "text": [
            "                   all        128        929      0.679      0.656      0.708      0.534\n",
            "                person         61        254      0.803      0.691      0.783      0.569\n",
            "               bicycle          3          6      0.897      0.333      0.385      0.338\n",
            "                   car         12         46      0.677      0.217      0.315      0.196\n",
            "            motorcycle          4          5      0.688      0.889      0.938       0.77\n",
            "              airplane          5          6      0.714          1      0.955      0.789\n",
            "                   bus          5          7      0.703      0.714      0.722      0.648\n",
            "                 train          3          3      0.705          1      0.913      0.747\n",
            "                 truck          5         12      0.847      0.463      0.526      0.373\n",
            "                  boat          2          6       0.55      0.333      0.518      0.376\n",
            "         traffic light          4         14      0.447      0.143      0.149      0.142\n",
            "             stop sign          2          2       0.74          1      0.995      0.659\n",
            "                 bench          5          9      0.746      0.444      0.685      0.534\n",
            "                  bird          2         16      0.853      0.875      0.959      0.649\n",
            "                   cat          4          4      0.699          1      0.995      0.776\n",
            "                   dog          9          9      0.691      0.889      0.931      0.695\n",
            "                 horse          1          2      0.674          1      0.995      0.597\n",
            "              elephant          4         17      0.808      0.941      0.969      0.729\n",
            "                  bear          1          1      0.449          1      0.995      0.995\n",
            "                 zebra          2          4      0.855          1      0.995      0.971\n",
            "               giraffe          4          9      0.932          1      0.995      0.794\n",
            "              backpack          4          6      0.617      0.333      0.407      0.262\n",
            "              umbrella          4         18      0.577      0.684      0.721      0.496\n",
            "               handbag          9         19      0.534      0.158      0.336      0.165\n",
            "                   tie          6          7       0.63      0.714      0.747      0.548\n",
            "              suitcase          2          4      0.648          1      0.995      0.646\n",
            "               frisbee          5          5      0.721        0.8      0.799      0.689\n",
            "                  skis          1          1      0.485          1      0.995      0.497\n",
            "             snowboard          2          7      0.566      0.714      0.764      0.536\n",
            "           sports ball          6          6          1      0.475      0.597      0.382\n",
            "                  kite          2         10        0.7        0.4      0.624      0.202\n",
            "          baseball bat          4          4      0.576       0.25      0.426      0.251\n",
            "        baseball glove          4          7      0.848      0.429      0.431      0.303\n",
            "            skateboard          3          5      0.775        0.6      0.606      0.444\n",
            "         tennis racket          5          7      0.564      0.377      0.595      0.399\n",
            "                bottle          6         18      0.506      0.456      0.402      0.277\n",
            "            wine glass          5         16      0.538        0.5      0.672      0.371\n",
            "                   cup         10         36      0.602      0.389      0.479      0.347\n",
            "                  fork          6          6      0.556      0.167      0.284      0.243\n",
            "                 knife          7         16      0.811      0.625      0.652      0.384\n",
            "                 spoon          5         22      0.589      0.364      0.412      0.245\n",
            "                  bowl          9         28      0.644      0.786      0.742      0.614\n",
            "                banana          1          1          0          0      0.199     0.0316\n",
            "              sandwich          2          2      0.752          1      0.995      0.995\n",
            "                orange          1          4      0.722      0.667      0.845      0.554\n",
            "              broccoli          4         11      0.562      0.273      0.327      0.266\n",
            "                carrot          3         24      0.625       0.75      0.789      0.516\n",
            "               hot dog          1          2      0.521          1      0.995      0.995\n",
            "                 pizza          5          5      0.851          1      0.995      0.866\n",
            "                 donut          2         14      0.527          1      0.926      0.823\n",
            "                  cake          4          4      0.823          1      0.995      0.905\n",
            "                 chair          9         35      0.535      0.571      0.505      0.311\n",
            "                 couch          5          6      0.567      0.833      0.899      0.702\n",
            "          potted plant          9         14      0.623      0.786      0.774      0.539\n",
            "                   bed          3          3          1      0.973      0.995       0.83\n",
            "          dining table         10         13      0.545      0.538      0.573       0.47\n",
            "                toilet          2          2      0.967          1      0.995      0.946\n",
            "                    tv          2          2      0.733          1      0.995      0.846\n",
            "                laptop          2          3      0.794      0.667      0.741      0.653\n",
            "                 mouse          2          2          1          0     0.0614    0.00614\n",
            "                remote          5          8          1      0.606      0.679      0.583\n",
            "            cell phone          5          8          0          0      0.108     0.0399\n",
            "             microwave          3          3      0.684      0.667      0.913      0.791\n",
            "                  oven          5          5      0.593        0.6       0.52        0.4\n",
            "                  sink          4          6      0.509      0.176      0.341      0.235\n",
            "          refrigerator          5          5      0.677        0.8      0.878      0.756\n",
            "                  book          6         29       0.55      0.276      0.437      0.241\n",
            "                 clock          8          9      0.888      0.879      0.895      0.774\n",
            "                  vase          2          2      0.482          1      0.828      0.795\n",
            "              scissors          1          1      0.966          1      0.995      0.298\n",
            "            teddy bear          6         21      0.724      0.626      0.736       0.47\n",
            "            toothbrush          2          5          1      0.771      0.962      0.633\n",
            "Speed: 1.2ms preprocess, 5.8ms inference, 0.0ms loss, 2.5ms postprocess per image\n",
            "Results saved to \u001b[1mruns/detect/train2\u001b[0m\n"
          ]
        }
      ]
    },
    {
      "cell_type": "code",
      "source": [
        "!ls datasets/coco128/images\n"
      ],
      "metadata": {
        "id": "Qmoa_YdX8olf",
        "outputId": "baa7ab78-e8fc-4b15-d745-5af4deda7b3f",
        "colab": {
          "base_uri": "https://localhost:8080/"
        }
      },
      "execution_count": null,
      "outputs": [
        {
          "output_type": "stream",
          "name": "stdout",
          "text": [
            "train2017\n"
          ]
        }
      ]
    },
    {
      "cell_type": "code",
      "source": [
        "results_pred = model.predict(source=\"/content/datasets/coco128/images/val2017\", conf=0.25)\n",
        "\n",
        "for result in results_pred:\n",
        "    result.show()\n",
        "\n",
        "\n",
        "print(\"Result Train：\", results_train)\n",
        "print(\"Result Validation：\", results_val)"
      ],
      "metadata": {
        "colab": {
          "base_uri": "https://localhost:8080/",
          "height": 382
        },
        "id": "MvbSZ5rf6FIj",
        "outputId": "95a3084d-42fe-43fa-aaa6-5d62d20c0347"
      },
      "execution_count": null,
      "outputs": [
        {
          "output_type": "stream",
          "name": "stdout",
          "text": [
            "\n"
          ]
        },
        {
          "output_type": "error",
          "ename": "FileNotFoundError",
          "evalue": "/content/datasets/coco128/images/val2017 does not exist",
          "traceback": [
            "\u001b[0;31m---------------------------------------------------------------------------\u001b[0m",
            "\u001b[0;31mFileNotFoundError\u001b[0m                         Traceback (most recent call last)",
            "\u001b[0;32m<ipython-input-7-a3ca1904f7b6>\u001b[0m in \u001b[0;36m<cell line: 0>\u001b[0;34m()\u001b[0m\n\u001b[0;32m----> 1\u001b[0;31m \u001b[0mresults_pred\u001b[0m \u001b[0;34m=\u001b[0m \u001b[0mmodel\u001b[0m\u001b[0;34m.\u001b[0m\u001b[0mpredict\u001b[0m\u001b[0;34m(\u001b[0m\u001b[0msource\u001b[0m\u001b[0;34m=\u001b[0m\u001b[0;34m\"/content/datasets/coco128/images/val2017\"\u001b[0m\u001b[0;34m,\u001b[0m \u001b[0mconf\u001b[0m\u001b[0;34m=\u001b[0m\u001b[0;36m0.25\u001b[0m\u001b[0;34m)\u001b[0m\u001b[0;34m\u001b[0m\u001b[0;34m\u001b[0m\u001b[0m\n\u001b[0m\u001b[1;32m      2\u001b[0m \u001b[0;34m\u001b[0m\u001b[0m\n\u001b[1;32m      3\u001b[0m \u001b[0;32mfor\u001b[0m \u001b[0mresult\u001b[0m \u001b[0;32min\u001b[0m \u001b[0mresults_pred\u001b[0m\u001b[0;34m:\u001b[0m\u001b[0;34m\u001b[0m\u001b[0;34m\u001b[0m\u001b[0m\n\u001b[1;32m      4\u001b[0m     \u001b[0mresult\u001b[0m\u001b[0;34m.\u001b[0m\u001b[0mshow\u001b[0m\u001b[0;34m(\u001b[0m\u001b[0;34m)\u001b[0m\u001b[0;34m\u001b[0m\u001b[0;34m\u001b[0m\u001b[0m\n\u001b[1;32m      5\u001b[0m \u001b[0;34m\u001b[0m\u001b[0m\n",
            "\u001b[0;32m/usr/local/lib/python3.11/dist-packages/ultralytics/engine/model.py\u001b[0m in \u001b[0;36mpredict\u001b[0;34m(self, source, stream, predictor, **kwargs)\u001b[0m\n\u001b[1;32m    548\u001b[0m         \u001b[0;32mif\u001b[0m \u001b[0mprompts\u001b[0m \u001b[0;32mand\u001b[0m \u001b[0mhasattr\u001b[0m\u001b[0;34m(\u001b[0m\u001b[0mself\u001b[0m\u001b[0;34m.\u001b[0m\u001b[0mpredictor\u001b[0m\u001b[0;34m,\u001b[0m \u001b[0;34m\"set_prompts\"\u001b[0m\u001b[0;34m)\u001b[0m\u001b[0;34m:\u001b[0m  \u001b[0;31m# for SAM-type models\u001b[0m\u001b[0;34m\u001b[0m\u001b[0;34m\u001b[0m\u001b[0m\n\u001b[1;32m    549\u001b[0m             \u001b[0mself\u001b[0m\u001b[0;34m.\u001b[0m\u001b[0mpredictor\u001b[0m\u001b[0;34m.\u001b[0m\u001b[0mset_prompts\u001b[0m\u001b[0;34m(\u001b[0m\u001b[0mprompts\u001b[0m\u001b[0;34m)\u001b[0m\u001b[0;34m\u001b[0m\u001b[0;34m\u001b[0m\u001b[0m\n\u001b[0;32m--> 550\u001b[0;31m         \u001b[0;32mreturn\u001b[0m \u001b[0mself\u001b[0m\u001b[0;34m.\u001b[0m\u001b[0mpredictor\u001b[0m\u001b[0;34m.\u001b[0m\u001b[0mpredict_cli\u001b[0m\u001b[0;34m(\u001b[0m\u001b[0msource\u001b[0m\u001b[0;34m=\u001b[0m\u001b[0msource\u001b[0m\u001b[0;34m)\u001b[0m \u001b[0;32mif\u001b[0m \u001b[0mis_cli\u001b[0m \u001b[0;32melse\u001b[0m \u001b[0mself\u001b[0m\u001b[0;34m.\u001b[0m\u001b[0mpredictor\u001b[0m\u001b[0;34m(\u001b[0m\u001b[0msource\u001b[0m\u001b[0;34m=\u001b[0m\u001b[0msource\u001b[0m\u001b[0;34m,\u001b[0m \u001b[0mstream\u001b[0m\u001b[0;34m=\u001b[0m\u001b[0mstream\u001b[0m\u001b[0;34m)\u001b[0m\u001b[0;34m\u001b[0m\u001b[0;34m\u001b[0m\u001b[0m\n\u001b[0m\u001b[1;32m    551\u001b[0m \u001b[0;34m\u001b[0m\u001b[0m\n\u001b[1;32m    552\u001b[0m     def track(\n",
            "\u001b[0;32m/usr/local/lib/python3.11/dist-packages/ultralytics/engine/predictor.py\u001b[0m in \u001b[0;36m__call__\u001b[0;34m(self, source, model, stream, *args, **kwargs)\u001b[0m\n\u001b[1;32m    214\u001b[0m             \u001b[0;32mreturn\u001b[0m \u001b[0mself\u001b[0m\u001b[0;34m.\u001b[0m\u001b[0mstream_inference\u001b[0m\u001b[0;34m(\u001b[0m\u001b[0msource\u001b[0m\u001b[0;34m,\u001b[0m \u001b[0mmodel\u001b[0m\u001b[0;34m,\u001b[0m \u001b[0;34m*\u001b[0m\u001b[0margs\u001b[0m\u001b[0;34m,\u001b[0m \u001b[0;34m**\u001b[0m\u001b[0mkwargs\u001b[0m\u001b[0;34m)\u001b[0m\u001b[0;34m\u001b[0m\u001b[0;34m\u001b[0m\u001b[0m\n\u001b[1;32m    215\u001b[0m         \u001b[0;32melse\u001b[0m\u001b[0;34m:\u001b[0m\u001b[0;34m\u001b[0m\u001b[0;34m\u001b[0m\u001b[0m\n\u001b[0;32m--> 216\u001b[0;31m             \u001b[0;32mreturn\u001b[0m \u001b[0mlist\u001b[0m\u001b[0;34m(\u001b[0m\u001b[0mself\u001b[0m\u001b[0;34m.\u001b[0m\u001b[0mstream_inference\u001b[0m\u001b[0;34m(\u001b[0m\u001b[0msource\u001b[0m\u001b[0;34m,\u001b[0m \u001b[0mmodel\u001b[0m\u001b[0;34m,\u001b[0m \u001b[0;34m*\u001b[0m\u001b[0margs\u001b[0m\u001b[0;34m,\u001b[0m \u001b[0;34m**\u001b[0m\u001b[0mkwargs\u001b[0m\u001b[0;34m)\u001b[0m\u001b[0;34m)\u001b[0m  \u001b[0;31m# merge list of Result into one\u001b[0m\u001b[0;34m\u001b[0m\u001b[0;34m\u001b[0m\u001b[0m\n\u001b[0m\u001b[1;32m    217\u001b[0m \u001b[0;34m\u001b[0m\u001b[0m\n\u001b[1;32m    218\u001b[0m     \u001b[0;32mdef\u001b[0m \u001b[0mpredict_cli\u001b[0m\u001b[0;34m(\u001b[0m\u001b[0mself\u001b[0m\u001b[0;34m,\u001b[0m \u001b[0msource\u001b[0m\u001b[0;34m=\u001b[0m\u001b[0;32mNone\u001b[0m\u001b[0;34m,\u001b[0m \u001b[0mmodel\u001b[0m\u001b[0;34m=\u001b[0m\u001b[0;32mNone\u001b[0m\u001b[0;34m)\u001b[0m\u001b[0;34m:\u001b[0m\u001b[0;34m\u001b[0m\u001b[0;34m\u001b[0m\u001b[0m\n",
            "\u001b[0;32m/usr/local/lib/python3.11/dist-packages/torch/utils/_contextlib.py\u001b[0m in \u001b[0;36mgenerator_context\u001b[0;34m(*args, **kwargs)\u001b[0m\n\u001b[1;32m     34\u001b[0m             \u001b[0;31m# Issuing `None` to a generator fires it up\u001b[0m\u001b[0;34m\u001b[0m\u001b[0;34m\u001b[0m\u001b[0m\n\u001b[1;32m     35\u001b[0m             \u001b[0;32mwith\u001b[0m \u001b[0mctx_factory\u001b[0m\u001b[0;34m(\u001b[0m\u001b[0;34m)\u001b[0m\u001b[0;34m:\u001b[0m\u001b[0;34m\u001b[0m\u001b[0;34m\u001b[0m\u001b[0m\n\u001b[0;32m---> 36\u001b[0;31m                 \u001b[0mresponse\u001b[0m \u001b[0;34m=\u001b[0m \u001b[0mgen\u001b[0m\u001b[0;34m.\u001b[0m\u001b[0msend\u001b[0m\u001b[0;34m(\u001b[0m\u001b[0;32mNone\u001b[0m\u001b[0;34m)\u001b[0m\u001b[0;34m\u001b[0m\u001b[0;34m\u001b[0m\u001b[0m\n\u001b[0m\u001b[1;32m     37\u001b[0m \u001b[0;34m\u001b[0m\u001b[0m\n\u001b[1;32m     38\u001b[0m             \u001b[0;32mwhile\u001b[0m \u001b[0;32mTrue\u001b[0m\u001b[0;34m:\u001b[0m\u001b[0;34m\u001b[0m\u001b[0;34m\u001b[0m\u001b[0m\n",
            "\u001b[0;32m/usr/local/lib/python3.11/dist-packages/ultralytics/engine/predictor.py\u001b[0m in \u001b[0;36mstream_inference\u001b[0;34m(self, source, model, *args, **kwargs)\u001b[0m\n\u001b[1;32m    295\u001b[0m         \u001b[0;32mwith\u001b[0m \u001b[0mself\u001b[0m\u001b[0;34m.\u001b[0m\u001b[0m_lock\u001b[0m\u001b[0;34m:\u001b[0m  \u001b[0;31m# for thread-safe inference\u001b[0m\u001b[0;34m\u001b[0m\u001b[0;34m\u001b[0m\u001b[0m\n\u001b[1;32m    296\u001b[0m             \u001b[0;31m# Setup source every time predict is called\u001b[0m\u001b[0;34m\u001b[0m\u001b[0;34m\u001b[0m\u001b[0m\n\u001b[0;32m--> 297\u001b[0;31m             \u001b[0mself\u001b[0m\u001b[0;34m.\u001b[0m\u001b[0msetup_source\u001b[0m\u001b[0;34m(\u001b[0m\u001b[0msource\u001b[0m \u001b[0;32mif\u001b[0m \u001b[0msource\u001b[0m \u001b[0;32mis\u001b[0m \u001b[0;32mnot\u001b[0m \u001b[0;32mNone\u001b[0m \u001b[0;32melse\u001b[0m \u001b[0mself\u001b[0m\u001b[0;34m.\u001b[0m\u001b[0margs\u001b[0m\u001b[0;34m.\u001b[0m\u001b[0msource\u001b[0m\u001b[0;34m)\u001b[0m\u001b[0;34m\u001b[0m\u001b[0;34m\u001b[0m\u001b[0m\n\u001b[0m\u001b[1;32m    298\u001b[0m \u001b[0;34m\u001b[0m\u001b[0m\n\u001b[1;32m    299\u001b[0m             \u001b[0;31m# Check if save_dir/ label file exists\u001b[0m\u001b[0;34m\u001b[0m\u001b[0;34m\u001b[0m\u001b[0m\n",
            "\u001b[0;32m/usr/local/lib/python3.11/dist-packages/ultralytics/engine/predictor.py\u001b[0m in \u001b[0;36msetup_source\u001b[0;34m(self, source)\u001b[0m\n\u001b[1;32m    255\u001b[0m             \u001b[0;32melse\u001b[0m \u001b[0;32mNone\u001b[0m\u001b[0;34m\u001b[0m\u001b[0;34m\u001b[0m\u001b[0m\n\u001b[1;32m    256\u001b[0m         )\n\u001b[0;32m--> 257\u001b[0;31m         self.dataset = load_inference_source(\n\u001b[0m\u001b[1;32m    258\u001b[0m             \u001b[0msource\u001b[0m\u001b[0;34m=\u001b[0m\u001b[0msource\u001b[0m\u001b[0;34m,\u001b[0m\u001b[0;34m\u001b[0m\u001b[0;34m\u001b[0m\u001b[0m\n\u001b[1;32m    259\u001b[0m             \u001b[0mbatch\u001b[0m\u001b[0;34m=\u001b[0m\u001b[0mself\u001b[0m\u001b[0;34m.\u001b[0m\u001b[0margs\u001b[0m\u001b[0;34m.\u001b[0m\u001b[0mbatch\u001b[0m\u001b[0;34m,\u001b[0m\u001b[0;34m\u001b[0m\u001b[0;34m\u001b[0m\u001b[0m\n",
            "\u001b[0;32m/usr/local/lib/python3.11/dist-packages/ultralytics/data/build.py\u001b[0m in \u001b[0;36mload_inference_source\u001b[0;34m(source, batch, vid_stride, buffer)\u001b[0m\n\u001b[1;32m    251\u001b[0m         \u001b[0mdataset\u001b[0m \u001b[0;34m=\u001b[0m \u001b[0mLoadPilAndNumpy\u001b[0m\u001b[0;34m(\u001b[0m\u001b[0msource\u001b[0m\u001b[0;34m)\u001b[0m\u001b[0;34m\u001b[0m\u001b[0;34m\u001b[0m\u001b[0m\n\u001b[1;32m    252\u001b[0m     \u001b[0;32melse\u001b[0m\u001b[0;34m:\u001b[0m\u001b[0;34m\u001b[0m\u001b[0;34m\u001b[0m\u001b[0m\n\u001b[0;32m--> 253\u001b[0;31m         \u001b[0mdataset\u001b[0m \u001b[0;34m=\u001b[0m \u001b[0mLoadImagesAndVideos\u001b[0m\u001b[0;34m(\u001b[0m\u001b[0msource\u001b[0m\u001b[0;34m,\u001b[0m \u001b[0mbatch\u001b[0m\u001b[0;34m=\u001b[0m\u001b[0mbatch\u001b[0m\u001b[0;34m,\u001b[0m \u001b[0mvid_stride\u001b[0m\u001b[0;34m=\u001b[0m\u001b[0mvid_stride\u001b[0m\u001b[0;34m)\u001b[0m\u001b[0;34m\u001b[0m\u001b[0;34m\u001b[0m\u001b[0m\n\u001b[0m\u001b[1;32m    254\u001b[0m \u001b[0;34m\u001b[0m\u001b[0m\n\u001b[1;32m    255\u001b[0m     \u001b[0;31m# Attach source types to the dataset\u001b[0m\u001b[0;34m\u001b[0m\u001b[0;34m\u001b[0m\u001b[0m\n",
            "\u001b[0;32m/usr/local/lib/python3.11/dist-packages/ultralytics/data/loaders.py\u001b[0m in \u001b[0;36m__init__\u001b[0;34m(self, path, batch, vid_stride)\u001b[0m\n\u001b[1;32m    340\u001b[0m                 \u001b[0mfiles\u001b[0m\u001b[0;34m.\u001b[0m\u001b[0mappend\u001b[0m\u001b[0;34m(\u001b[0m\u001b[0mstr\u001b[0m\u001b[0;34m(\u001b[0m\u001b[0;34m(\u001b[0m\u001b[0mparent\u001b[0m \u001b[0;34m/\u001b[0m \u001b[0mp\u001b[0m\u001b[0;34m)\u001b[0m\u001b[0;34m.\u001b[0m\u001b[0mabsolute\u001b[0m\u001b[0;34m(\u001b[0m\u001b[0;34m)\u001b[0m\u001b[0;34m)\u001b[0m\u001b[0;34m)\u001b[0m  \u001b[0;31m# files (relative to *.txt file parent)\u001b[0m\u001b[0;34m\u001b[0m\u001b[0;34m\u001b[0m\u001b[0m\n\u001b[1;32m    341\u001b[0m             \u001b[0;32melse\u001b[0m\u001b[0;34m:\u001b[0m\u001b[0;34m\u001b[0m\u001b[0;34m\u001b[0m\u001b[0m\n\u001b[0;32m--> 342\u001b[0;31m                 \u001b[0;32mraise\u001b[0m \u001b[0mFileNotFoundError\u001b[0m\u001b[0;34m(\u001b[0m\u001b[0;34mf\"{p} does not exist\"\u001b[0m\u001b[0;34m)\u001b[0m\u001b[0;34m\u001b[0m\u001b[0;34m\u001b[0m\u001b[0m\n\u001b[0m\u001b[1;32m    343\u001b[0m \u001b[0;34m\u001b[0m\u001b[0m\n\u001b[1;32m    344\u001b[0m         \u001b[0;31m# Define files as images or videos\u001b[0m\u001b[0;34m\u001b[0m\u001b[0;34m\u001b[0m\u001b[0m\n",
            "\u001b[0;31mFileNotFoundError\u001b[0m: /content/datasets/coco128/images/val2017 does not exist"
          ]
        }
      ]
    }
  ]
}